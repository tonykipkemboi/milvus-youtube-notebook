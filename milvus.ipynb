{
  "nbformat": 4,
  "nbformat_minor": 0,
  "metadata": {
    "colab": {
      "provenance": [],
      "authorship_tag": "ABX9TyNusYHMnTGIhs7ixnCCDXMd",
      "include_colab_link": true
    },
    "kernelspec": {
      "name": "python3",
      "display_name": "Python 3"
    },
    "language_info": {
      "name": "python"
    },
    "widgets": {
      "application/vnd.jupyter.widget-state+json": {
        "161c894404dd46c78aad2d47f4806292": {
          "model_module": "@jupyter-widgets/controls",
          "model_name": "HBoxModel",
          "model_module_version": "1.5.0",
          "state": {
            "_dom_classes": [],
            "_model_module": "@jupyter-widgets/controls",
            "_model_module_version": "1.5.0",
            "_model_name": "HBoxModel",
            "_view_count": null,
            "_view_module": "@jupyter-widgets/controls",
            "_view_module_version": "1.5.0",
            "_view_name": "HBoxView",
            "box_style": "",
            "children": [
              "IPY_MODEL_3d073c3586ea4f16bdc7e820ec9ce2b4",
              "IPY_MODEL_5adcb9748ede4ac0888e0416580a2081",
              "IPY_MODEL_65a6c605e7c3468dab20106db48549d9"
            ],
            "layout": "IPY_MODEL_17d88defdd9c4519aaf705990aaebd2e"
          }
        },
        "3d073c3586ea4f16bdc7e820ec9ce2b4": {
          "model_module": "@jupyter-widgets/controls",
          "model_name": "HTMLModel",
          "model_module_version": "1.5.0",
          "state": {
            "_dom_classes": [],
            "_model_module": "@jupyter-widgets/controls",
            "_model_module_version": "1.5.0",
            "_model_name": "HTMLModel",
            "_view_count": null,
            "_view_module": "@jupyter-widgets/controls",
            "_view_module_version": "1.5.0",
            "_view_name": "HTMLView",
            "description": "",
            "description_tooltip": null,
            "layout": "IPY_MODEL_bac1911e2dc14cd5a86d59cf118a58d8",
            "placeholder": "​",
            "style": "IPY_MODEL_5af64a8e31974dd494a2ca82151e8e6e",
            "value": "Downloading (…)okenizer_config.json: 100%"
          }
        },
        "5adcb9748ede4ac0888e0416580a2081": {
          "model_module": "@jupyter-widgets/controls",
          "model_name": "FloatProgressModel",
          "model_module_version": "1.5.0",
          "state": {
            "_dom_classes": [],
            "_model_module": "@jupyter-widgets/controls",
            "_model_module_version": "1.5.0",
            "_model_name": "FloatProgressModel",
            "_view_count": null,
            "_view_module": "@jupyter-widgets/controls",
            "_view_module_version": "1.5.0",
            "_view_name": "ProgressView",
            "bar_style": "success",
            "description": "",
            "description_tooltip": null,
            "layout": "IPY_MODEL_06f654acb7384ac3a5d491fdf3e4eb76",
            "max": 366,
            "min": 0,
            "orientation": "horizontal",
            "style": "IPY_MODEL_6edee15398f248c18d6f3661145da249",
            "value": 366
          }
        },
        "65a6c605e7c3468dab20106db48549d9": {
          "model_module": "@jupyter-widgets/controls",
          "model_name": "HTMLModel",
          "model_module_version": "1.5.0",
          "state": {
            "_dom_classes": [],
            "_model_module": "@jupyter-widgets/controls",
            "_model_module_version": "1.5.0",
            "_model_name": "HTMLModel",
            "_view_count": null,
            "_view_module": "@jupyter-widgets/controls",
            "_view_module_version": "1.5.0",
            "_view_name": "HTMLView",
            "description": "",
            "description_tooltip": null,
            "layout": "IPY_MODEL_f424aed470234db9a5d4896e96294d10",
            "placeholder": "​",
            "style": "IPY_MODEL_8626e2d56efe427ca30df0bd5013e4e8",
            "value": " 366/366 [00:00&lt;00:00, 6.93kB/s]"
          }
        },
        "17d88defdd9c4519aaf705990aaebd2e": {
          "model_module": "@jupyter-widgets/base",
          "model_name": "LayoutModel",
          "model_module_version": "1.2.0",
          "state": {
            "_model_module": "@jupyter-widgets/base",
            "_model_module_version": "1.2.0",
            "_model_name": "LayoutModel",
            "_view_count": null,
            "_view_module": "@jupyter-widgets/base",
            "_view_module_version": "1.2.0",
            "_view_name": "LayoutView",
            "align_content": null,
            "align_items": null,
            "align_self": null,
            "border": null,
            "bottom": null,
            "display": null,
            "flex": null,
            "flex_flow": null,
            "grid_area": null,
            "grid_auto_columns": null,
            "grid_auto_flow": null,
            "grid_auto_rows": null,
            "grid_column": null,
            "grid_gap": null,
            "grid_row": null,
            "grid_template_areas": null,
            "grid_template_columns": null,
            "grid_template_rows": null,
            "height": null,
            "justify_content": null,
            "justify_items": null,
            "left": null,
            "margin": null,
            "max_height": null,
            "max_width": null,
            "min_height": null,
            "min_width": null,
            "object_fit": null,
            "object_position": null,
            "order": null,
            "overflow": null,
            "overflow_x": null,
            "overflow_y": null,
            "padding": null,
            "right": null,
            "top": null,
            "visibility": null,
            "width": null
          }
        },
        "bac1911e2dc14cd5a86d59cf118a58d8": {
          "model_module": "@jupyter-widgets/base",
          "model_name": "LayoutModel",
          "model_module_version": "1.2.0",
          "state": {
            "_model_module": "@jupyter-widgets/base",
            "_model_module_version": "1.2.0",
            "_model_name": "LayoutModel",
            "_view_count": null,
            "_view_module": "@jupyter-widgets/base",
            "_view_module_version": "1.2.0",
            "_view_name": "LayoutView",
            "align_content": null,
            "align_items": null,
            "align_self": null,
            "border": null,
            "bottom": null,
            "display": null,
            "flex": null,
            "flex_flow": null,
            "grid_area": null,
            "grid_auto_columns": null,
            "grid_auto_flow": null,
            "grid_auto_rows": null,
            "grid_column": null,
            "grid_gap": null,
            "grid_row": null,
            "grid_template_areas": null,
            "grid_template_columns": null,
            "grid_template_rows": null,
            "height": null,
            "justify_content": null,
            "justify_items": null,
            "left": null,
            "margin": null,
            "max_height": null,
            "max_width": null,
            "min_height": null,
            "min_width": null,
            "object_fit": null,
            "object_position": null,
            "order": null,
            "overflow": null,
            "overflow_x": null,
            "overflow_y": null,
            "padding": null,
            "right": null,
            "top": null,
            "visibility": null,
            "width": null
          }
        },
        "5af64a8e31974dd494a2ca82151e8e6e": {
          "model_module": "@jupyter-widgets/controls",
          "model_name": "DescriptionStyleModel",
          "model_module_version": "1.5.0",
          "state": {
            "_model_module": "@jupyter-widgets/controls",
            "_model_module_version": "1.5.0",
            "_model_name": "DescriptionStyleModel",
            "_view_count": null,
            "_view_module": "@jupyter-widgets/base",
            "_view_module_version": "1.2.0",
            "_view_name": "StyleView",
            "description_width": ""
          }
        },
        "06f654acb7384ac3a5d491fdf3e4eb76": {
          "model_module": "@jupyter-widgets/base",
          "model_name": "LayoutModel",
          "model_module_version": "1.2.0",
          "state": {
            "_model_module": "@jupyter-widgets/base",
            "_model_module_version": "1.2.0",
            "_model_name": "LayoutModel",
            "_view_count": null,
            "_view_module": "@jupyter-widgets/base",
            "_view_module_version": "1.2.0",
            "_view_name": "LayoutView",
            "align_content": null,
            "align_items": null,
            "align_self": null,
            "border": null,
            "bottom": null,
            "display": null,
            "flex": null,
            "flex_flow": null,
            "grid_area": null,
            "grid_auto_columns": null,
            "grid_auto_flow": null,
            "grid_auto_rows": null,
            "grid_column": null,
            "grid_gap": null,
            "grid_row": null,
            "grid_template_areas": null,
            "grid_template_columns": null,
            "grid_template_rows": null,
            "height": null,
            "justify_content": null,
            "justify_items": null,
            "left": null,
            "margin": null,
            "max_height": null,
            "max_width": null,
            "min_height": null,
            "min_width": null,
            "object_fit": null,
            "object_position": null,
            "order": null,
            "overflow": null,
            "overflow_x": null,
            "overflow_y": null,
            "padding": null,
            "right": null,
            "top": null,
            "visibility": null,
            "width": null
          }
        },
        "6edee15398f248c18d6f3661145da249": {
          "model_module": "@jupyter-widgets/controls",
          "model_name": "ProgressStyleModel",
          "model_module_version": "1.5.0",
          "state": {
            "_model_module": "@jupyter-widgets/controls",
            "_model_module_version": "1.5.0",
            "_model_name": "ProgressStyleModel",
            "_view_count": null,
            "_view_module": "@jupyter-widgets/base",
            "_view_module_version": "1.2.0",
            "_view_name": "StyleView",
            "bar_color": null,
            "description_width": ""
          }
        },
        "f424aed470234db9a5d4896e96294d10": {
          "model_module": "@jupyter-widgets/base",
          "model_name": "LayoutModel",
          "model_module_version": "1.2.0",
          "state": {
            "_model_module": "@jupyter-widgets/base",
            "_model_module_version": "1.2.0",
            "_model_name": "LayoutModel",
            "_view_count": null,
            "_view_module": "@jupyter-widgets/base",
            "_view_module_version": "1.2.0",
            "_view_name": "LayoutView",
            "align_content": null,
            "align_items": null,
            "align_self": null,
            "border": null,
            "bottom": null,
            "display": null,
            "flex": null,
            "flex_flow": null,
            "grid_area": null,
            "grid_auto_columns": null,
            "grid_auto_flow": null,
            "grid_auto_rows": null,
            "grid_column": null,
            "grid_gap": null,
            "grid_row": null,
            "grid_template_areas": null,
            "grid_template_columns": null,
            "grid_template_rows": null,
            "height": null,
            "justify_content": null,
            "justify_items": null,
            "left": null,
            "margin": null,
            "max_height": null,
            "max_width": null,
            "min_height": null,
            "min_width": null,
            "object_fit": null,
            "object_position": null,
            "order": null,
            "overflow": null,
            "overflow_x": null,
            "overflow_y": null,
            "padding": null,
            "right": null,
            "top": null,
            "visibility": null,
            "width": null
          }
        },
        "8626e2d56efe427ca30df0bd5013e4e8": {
          "model_module": "@jupyter-widgets/controls",
          "model_name": "DescriptionStyleModel",
          "model_module_version": "1.5.0",
          "state": {
            "_model_module": "@jupyter-widgets/controls",
            "_model_module_version": "1.5.0",
            "_model_name": "DescriptionStyleModel",
            "_view_count": null,
            "_view_module": "@jupyter-widgets/base",
            "_view_module_version": "1.2.0",
            "_view_name": "StyleView",
            "description_width": ""
          }
        },
        "b04e954607be4e3d90fd446b957fc3c6": {
          "model_module": "@jupyter-widgets/controls",
          "model_name": "HBoxModel",
          "model_module_version": "1.5.0",
          "state": {
            "_dom_classes": [],
            "_model_module": "@jupyter-widgets/controls",
            "_model_module_version": "1.5.0",
            "_model_name": "HBoxModel",
            "_view_count": null,
            "_view_module": "@jupyter-widgets/controls",
            "_view_module_version": "1.5.0",
            "_view_name": "HBoxView",
            "box_style": "",
            "children": [
              "IPY_MODEL_aa842f44b95a4b66b58f786c80b7eb35",
              "IPY_MODEL_c2f31b8c004a4d7f970e6f7ecac8d6ff",
              "IPY_MODEL_f7b4caec1bf6424f86baa2d917a40cda"
            ],
            "layout": "IPY_MODEL_10a89256e7104d5e8535117ecf1ce44c"
          }
        },
        "aa842f44b95a4b66b58f786c80b7eb35": {
          "model_module": "@jupyter-widgets/controls",
          "model_name": "HTMLModel",
          "model_module_version": "1.5.0",
          "state": {
            "_dom_classes": [],
            "_model_module": "@jupyter-widgets/controls",
            "_model_module_version": "1.5.0",
            "_model_name": "HTMLModel",
            "_view_count": null,
            "_view_module": "@jupyter-widgets/controls",
            "_view_module_version": "1.5.0",
            "_view_name": "HTMLView",
            "description": "",
            "description_tooltip": null,
            "layout": "IPY_MODEL_dfae5bf2868e4be5b3f13995d07088f0",
            "placeholder": "​",
            "style": "IPY_MODEL_91e09676fbc645c7b5c7e0a930597faa",
            "value": "Downloading (…)solve/main/vocab.txt: 100%"
          }
        },
        "c2f31b8c004a4d7f970e6f7ecac8d6ff": {
          "model_module": "@jupyter-widgets/controls",
          "model_name": "FloatProgressModel",
          "model_module_version": "1.5.0",
          "state": {
            "_dom_classes": [],
            "_model_module": "@jupyter-widgets/controls",
            "_model_module_version": "1.5.0",
            "_model_name": "FloatProgressModel",
            "_view_count": null,
            "_view_module": "@jupyter-widgets/controls",
            "_view_module_version": "1.5.0",
            "_view_name": "ProgressView",
            "bar_style": "success",
            "description": "",
            "description_tooltip": null,
            "layout": "IPY_MODEL_822c4abae1e34e7b814e1ae6ab68e57c",
            "max": 231508,
            "min": 0,
            "orientation": "horizontal",
            "style": "IPY_MODEL_a3fad955a9004eab9063dc407f2543f7",
            "value": 231508
          }
        },
        "f7b4caec1bf6424f86baa2d917a40cda": {
          "model_module": "@jupyter-widgets/controls",
          "model_name": "HTMLModel",
          "model_module_version": "1.5.0",
          "state": {
            "_dom_classes": [],
            "_model_module": "@jupyter-widgets/controls",
            "_model_module_version": "1.5.0",
            "_model_name": "HTMLModel",
            "_view_count": null,
            "_view_module": "@jupyter-widgets/controls",
            "_view_module_version": "1.5.0",
            "_view_name": "HTMLView",
            "description": "",
            "description_tooltip": null,
            "layout": "IPY_MODEL_9e7e927aa739445bbd7b5cc7db126279",
            "placeholder": "​",
            "style": "IPY_MODEL_d008b7d2bb98432e86ddd5e7a5aa66df",
            "value": " 232k/232k [00:00&lt;00:00, 1.83MB/s]"
          }
        },
        "10a89256e7104d5e8535117ecf1ce44c": {
          "model_module": "@jupyter-widgets/base",
          "model_name": "LayoutModel",
          "model_module_version": "1.2.0",
          "state": {
            "_model_module": "@jupyter-widgets/base",
            "_model_module_version": "1.2.0",
            "_model_name": "LayoutModel",
            "_view_count": null,
            "_view_module": "@jupyter-widgets/base",
            "_view_module_version": "1.2.0",
            "_view_name": "LayoutView",
            "align_content": null,
            "align_items": null,
            "align_self": null,
            "border": null,
            "bottom": null,
            "display": null,
            "flex": null,
            "flex_flow": null,
            "grid_area": null,
            "grid_auto_columns": null,
            "grid_auto_flow": null,
            "grid_auto_rows": null,
            "grid_column": null,
            "grid_gap": null,
            "grid_row": null,
            "grid_template_areas": null,
            "grid_template_columns": null,
            "grid_template_rows": null,
            "height": null,
            "justify_content": null,
            "justify_items": null,
            "left": null,
            "margin": null,
            "max_height": null,
            "max_width": null,
            "min_height": null,
            "min_width": null,
            "object_fit": null,
            "object_position": null,
            "order": null,
            "overflow": null,
            "overflow_x": null,
            "overflow_y": null,
            "padding": null,
            "right": null,
            "top": null,
            "visibility": null,
            "width": null
          }
        },
        "dfae5bf2868e4be5b3f13995d07088f0": {
          "model_module": "@jupyter-widgets/base",
          "model_name": "LayoutModel",
          "model_module_version": "1.2.0",
          "state": {
            "_model_module": "@jupyter-widgets/base",
            "_model_module_version": "1.2.0",
            "_model_name": "LayoutModel",
            "_view_count": null,
            "_view_module": "@jupyter-widgets/base",
            "_view_module_version": "1.2.0",
            "_view_name": "LayoutView",
            "align_content": null,
            "align_items": null,
            "align_self": null,
            "border": null,
            "bottom": null,
            "display": null,
            "flex": null,
            "flex_flow": null,
            "grid_area": null,
            "grid_auto_columns": null,
            "grid_auto_flow": null,
            "grid_auto_rows": null,
            "grid_column": null,
            "grid_gap": null,
            "grid_row": null,
            "grid_template_areas": null,
            "grid_template_columns": null,
            "grid_template_rows": null,
            "height": null,
            "justify_content": null,
            "justify_items": null,
            "left": null,
            "margin": null,
            "max_height": null,
            "max_width": null,
            "min_height": null,
            "min_width": null,
            "object_fit": null,
            "object_position": null,
            "order": null,
            "overflow": null,
            "overflow_x": null,
            "overflow_y": null,
            "padding": null,
            "right": null,
            "top": null,
            "visibility": null,
            "width": null
          }
        },
        "91e09676fbc645c7b5c7e0a930597faa": {
          "model_module": "@jupyter-widgets/controls",
          "model_name": "DescriptionStyleModel",
          "model_module_version": "1.5.0",
          "state": {
            "_model_module": "@jupyter-widgets/controls",
            "_model_module_version": "1.5.0",
            "_model_name": "DescriptionStyleModel",
            "_view_count": null,
            "_view_module": "@jupyter-widgets/base",
            "_view_module_version": "1.2.0",
            "_view_name": "StyleView",
            "description_width": ""
          }
        },
        "822c4abae1e34e7b814e1ae6ab68e57c": {
          "model_module": "@jupyter-widgets/base",
          "model_name": "LayoutModel",
          "model_module_version": "1.2.0",
          "state": {
            "_model_module": "@jupyter-widgets/base",
            "_model_module_version": "1.2.0",
            "_model_name": "LayoutModel",
            "_view_count": null,
            "_view_module": "@jupyter-widgets/base",
            "_view_module_version": "1.2.0",
            "_view_name": "LayoutView",
            "align_content": null,
            "align_items": null,
            "align_self": null,
            "border": null,
            "bottom": null,
            "display": null,
            "flex": null,
            "flex_flow": null,
            "grid_area": null,
            "grid_auto_columns": null,
            "grid_auto_flow": null,
            "grid_auto_rows": null,
            "grid_column": null,
            "grid_gap": null,
            "grid_row": null,
            "grid_template_areas": null,
            "grid_template_columns": null,
            "grid_template_rows": null,
            "height": null,
            "justify_content": null,
            "justify_items": null,
            "left": null,
            "margin": null,
            "max_height": null,
            "max_width": null,
            "min_height": null,
            "min_width": null,
            "object_fit": null,
            "object_position": null,
            "order": null,
            "overflow": null,
            "overflow_x": null,
            "overflow_y": null,
            "padding": null,
            "right": null,
            "top": null,
            "visibility": null,
            "width": null
          }
        },
        "a3fad955a9004eab9063dc407f2543f7": {
          "model_module": "@jupyter-widgets/controls",
          "model_name": "ProgressStyleModel",
          "model_module_version": "1.5.0",
          "state": {
            "_model_module": "@jupyter-widgets/controls",
            "_model_module_version": "1.5.0",
            "_model_name": "ProgressStyleModel",
            "_view_count": null,
            "_view_module": "@jupyter-widgets/base",
            "_view_module_version": "1.2.0",
            "_view_name": "StyleView",
            "bar_color": null,
            "description_width": ""
          }
        },
        "9e7e927aa739445bbd7b5cc7db126279": {
          "model_module": "@jupyter-widgets/base",
          "model_name": "LayoutModel",
          "model_module_version": "1.2.0",
          "state": {
            "_model_module": "@jupyter-widgets/base",
            "_model_module_version": "1.2.0",
            "_model_name": "LayoutModel",
            "_view_count": null,
            "_view_module": "@jupyter-widgets/base",
            "_view_module_version": "1.2.0",
            "_view_name": "LayoutView",
            "align_content": null,
            "align_items": null,
            "align_self": null,
            "border": null,
            "bottom": null,
            "display": null,
            "flex": null,
            "flex_flow": null,
            "grid_area": null,
            "grid_auto_columns": null,
            "grid_auto_flow": null,
            "grid_auto_rows": null,
            "grid_column": null,
            "grid_gap": null,
            "grid_row": null,
            "grid_template_areas": null,
            "grid_template_columns": null,
            "grid_template_rows": null,
            "height": null,
            "justify_content": null,
            "justify_items": null,
            "left": null,
            "margin": null,
            "max_height": null,
            "max_width": null,
            "min_height": null,
            "min_width": null,
            "object_fit": null,
            "object_position": null,
            "order": null,
            "overflow": null,
            "overflow_x": null,
            "overflow_y": null,
            "padding": null,
            "right": null,
            "top": null,
            "visibility": null,
            "width": null
          }
        },
        "d008b7d2bb98432e86ddd5e7a5aa66df": {
          "model_module": "@jupyter-widgets/controls",
          "model_name": "DescriptionStyleModel",
          "model_module_version": "1.5.0",
          "state": {
            "_model_module": "@jupyter-widgets/controls",
            "_model_module_version": "1.5.0",
            "_model_name": "DescriptionStyleModel",
            "_view_count": null,
            "_view_module": "@jupyter-widgets/base",
            "_view_module_version": "1.2.0",
            "_view_name": "StyleView",
            "description_width": ""
          }
        },
        "0f4cebbf3ef34b408055b6ad1d6e4da4": {
          "model_module": "@jupyter-widgets/controls",
          "model_name": "HBoxModel",
          "model_module_version": "1.5.0",
          "state": {
            "_dom_classes": [],
            "_model_module": "@jupyter-widgets/controls",
            "_model_module_version": "1.5.0",
            "_model_name": "HBoxModel",
            "_view_count": null,
            "_view_module": "@jupyter-widgets/controls",
            "_view_module_version": "1.5.0",
            "_view_name": "HBoxView",
            "box_style": "",
            "children": [
              "IPY_MODEL_1d32eeb860704bd0801ce700924795b4",
              "IPY_MODEL_403cfd9439ba4b3b88ae3496028c78d1",
              "IPY_MODEL_725b9c9516d74510bcd2a4a2d2a54033"
            ],
            "layout": "IPY_MODEL_c5bb3869338a467ab9dec94240486e5e"
          }
        },
        "1d32eeb860704bd0801ce700924795b4": {
          "model_module": "@jupyter-widgets/controls",
          "model_name": "HTMLModel",
          "model_module_version": "1.5.0",
          "state": {
            "_dom_classes": [],
            "_model_module": "@jupyter-widgets/controls",
            "_model_module_version": "1.5.0",
            "_model_name": "HTMLModel",
            "_view_count": null,
            "_view_module": "@jupyter-widgets/controls",
            "_view_module_version": "1.5.0",
            "_view_name": "HTMLView",
            "description": "",
            "description_tooltip": null,
            "layout": "IPY_MODEL_0b7c65637cce4ae9abbabccf84ec623c",
            "placeholder": "​",
            "style": "IPY_MODEL_1419c9bb02b0407982f8aeec23200757",
            "value": "Downloading (…)/main/tokenizer.json: 100%"
          }
        },
        "403cfd9439ba4b3b88ae3496028c78d1": {
          "model_module": "@jupyter-widgets/controls",
          "model_name": "FloatProgressModel",
          "model_module_version": "1.5.0",
          "state": {
            "_dom_classes": [],
            "_model_module": "@jupyter-widgets/controls",
            "_model_module_version": "1.5.0",
            "_model_name": "FloatProgressModel",
            "_view_count": null,
            "_view_module": "@jupyter-widgets/controls",
            "_view_module_version": "1.5.0",
            "_view_name": "ProgressView",
            "bar_style": "success",
            "description": "",
            "description_tooltip": null,
            "layout": "IPY_MODEL_271db3fb6c3d4eddb0a69693f450df13",
            "max": 711649,
            "min": 0,
            "orientation": "horizontal",
            "style": "IPY_MODEL_58cf68fa936f42a392319af602b52ca0",
            "value": 711649
          }
        },
        "725b9c9516d74510bcd2a4a2d2a54033": {
          "model_module": "@jupyter-widgets/controls",
          "model_name": "HTMLModel",
          "model_module_version": "1.5.0",
          "state": {
            "_dom_classes": [],
            "_model_module": "@jupyter-widgets/controls",
            "_model_module_version": "1.5.0",
            "_model_name": "HTMLModel",
            "_view_count": null,
            "_view_module": "@jupyter-widgets/controls",
            "_view_module_version": "1.5.0",
            "_view_name": "HTMLView",
            "description": "",
            "description_tooltip": null,
            "layout": "IPY_MODEL_39d398a3cbe64b55867a7e6ee8b4fe6a",
            "placeholder": "​",
            "style": "IPY_MODEL_c856e7c5a442449392f509a18240a10d",
            "value": " 712k/712k [00:00&lt;00:00, 4.76MB/s]"
          }
        },
        "c5bb3869338a467ab9dec94240486e5e": {
          "model_module": "@jupyter-widgets/base",
          "model_name": "LayoutModel",
          "model_module_version": "1.2.0",
          "state": {
            "_model_module": "@jupyter-widgets/base",
            "_model_module_version": "1.2.0",
            "_model_name": "LayoutModel",
            "_view_count": null,
            "_view_module": "@jupyter-widgets/base",
            "_view_module_version": "1.2.0",
            "_view_name": "LayoutView",
            "align_content": null,
            "align_items": null,
            "align_self": null,
            "border": null,
            "bottom": null,
            "display": null,
            "flex": null,
            "flex_flow": null,
            "grid_area": null,
            "grid_auto_columns": null,
            "grid_auto_flow": null,
            "grid_auto_rows": null,
            "grid_column": null,
            "grid_gap": null,
            "grid_row": null,
            "grid_template_areas": null,
            "grid_template_columns": null,
            "grid_template_rows": null,
            "height": null,
            "justify_content": null,
            "justify_items": null,
            "left": null,
            "margin": null,
            "max_height": null,
            "max_width": null,
            "min_height": null,
            "min_width": null,
            "object_fit": null,
            "object_position": null,
            "order": null,
            "overflow": null,
            "overflow_x": null,
            "overflow_y": null,
            "padding": null,
            "right": null,
            "top": null,
            "visibility": null,
            "width": null
          }
        },
        "0b7c65637cce4ae9abbabccf84ec623c": {
          "model_module": "@jupyter-widgets/base",
          "model_name": "LayoutModel",
          "model_module_version": "1.2.0",
          "state": {
            "_model_module": "@jupyter-widgets/base",
            "_model_module_version": "1.2.0",
            "_model_name": "LayoutModel",
            "_view_count": null,
            "_view_module": "@jupyter-widgets/base",
            "_view_module_version": "1.2.0",
            "_view_name": "LayoutView",
            "align_content": null,
            "align_items": null,
            "align_self": null,
            "border": null,
            "bottom": null,
            "display": null,
            "flex": null,
            "flex_flow": null,
            "grid_area": null,
            "grid_auto_columns": null,
            "grid_auto_flow": null,
            "grid_auto_rows": null,
            "grid_column": null,
            "grid_gap": null,
            "grid_row": null,
            "grid_template_areas": null,
            "grid_template_columns": null,
            "grid_template_rows": null,
            "height": null,
            "justify_content": null,
            "justify_items": null,
            "left": null,
            "margin": null,
            "max_height": null,
            "max_width": null,
            "min_height": null,
            "min_width": null,
            "object_fit": null,
            "object_position": null,
            "order": null,
            "overflow": null,
            "overflow_x": null,
            "overflow_y": null,
            "padding": null,
            "right": null,
            "top": null,
            "visibility": null,
            "width": null
          }
        },
        "1419c9bb02b0407982f8aeec23200757": {
          "model_module": "@jupyter-widgets/controls",
          "model_name": "DescriptionStyleModel",
          "model_module_version": "1.5.0",
          "state": {
            "_model_module": "@jupyter-widgets/controls",
            "_model_module_version": "1.5.0",
            "_model_name": "DescriptionStyleModel",
            "_view_count": null,
            "_view_module": "@jupyter-widgets/base",
            "_view_module_version": "1.2.0",
            "_view_name": "StyleView",
            "description_width": ""
          }
        },
        "271db3fb6c3d4eddb0a69693f450df13": {
          "model_module": "@jupyter-widgets/base",
          "model_name": "LayoutModel",
          "model_module_version": "1.2.0",
          "state": {
            "_model_module": "@jupyter-widgets/base",
            "_model_module_version": "1.2.0",
            "_model_name": "LayoutModel",
            "_view_count": null,
            "_view_module": "@jupyter-widgets/base",
            "_view_module_version": "1.2.0",
            "_view_name": "LayoutView",
            "align_content": null,
            "align_items": null,
            "align_self": null,
            "border": null,
            "bottom": null,
            "display": null,
            "flex": null,
            "flex_flow": null,
            "grid_area": null,
            "grid_auto_columns": null,
            "grid_auto_flow": null,
            "grid_auto_rows": null,
            "grid_column": null,
            "grid_gap": null,
            "grid_row": null,
            "grid_template_areas": null,
            "grid_template_columns": null,
            "grid_template_rows": null,
            "height": null,
            "justify_content": null,
            "justify_items": null,
            "left": null,
            "margin": null,
            "max_height": null,
            "max_width": null,
            "min_height": null,
            "min_width": null,
            "object_fit": null,
            "object_position": null,
            "order": null,
            "overflow": null,
            "overflow_x": null,
            "overflow_y": null,
            "padding": null,
            "right": null,
            "top": null,
            "visibility": null,
            "width": null
          }
        },
        "58cf68fa936f42a392319af602b52ca0": {
          "model_module": "@jupyter-widgets/controls",
          "model_name": "ProgressStyleModel",
          "model_module_version": "1.5.0",
          "state": {
            "_model_module": "@jupyter-widgets/controls",
            "_model_module_version": "1.5.0",
            "_model_name": "ProgressStyleModel",
            "_view_count": null,
            "_view_module": "@jupyter-widgets/base",
            "_view_module_version": "1.2.0",
            "_view_name": "StyleView",
            "bar_color": null,
            "description_width": ""
          }
        },
        "39d398a3cbe64b55867a7e6ee8b4fe6a": {
          "model_module": "@jupyter-widgets/base",
          "model_name": "LayoutModel",
          "model_module_version": "1.2.0",
          "state": {
            "_model_module": "@jupyter-widgets/base",
            "_model_module_version": "1.2.0",
            "_model_name": "LayoutModel",
            "_view_count": null,
            "_view_module": "@jupyter-widgets/base",
            "_view_module_version": "1.2.0",
            "_view_name": "LayoutView",
            "align_content": null,
            "align_items": null,
            "align_self": null,
            "border": null,
            "bottom": null,
            "display": null,
            "flex": null,
            "flex_flow": null,
            "grid_area": null,
            "grid_auto_columns": null,
            "grid_auto_flow": null,
            "grid_auto_rows": null,
            "grid_column": null,
            "grid_gap": null,
            "grid_row": null,
            "grid_template_areas": null,
            "grid_template_columns": null,
            "grid_template_rows": null,
            "height": null,
            "justify_content": null,
            "justify_items": null,
            "left": null,
            "margin": null,
            "max_height": null,
            "max_width": null,
            "min_height": null,
            "min_width": null,
            "object_fit": null,
            "object_position": null,
            "order": null,
            "overflow": null,
            "overflow_x": null,
            "overflow_y": null,
            "padding": null,
            "right": null,
            "top": null,
            "visibility": null,
            "width": null
          }
        },
        "c856e7c5a442449392f509a18240a10d": {
          "model_module": "@jupyter-widgets/controls",
          "model_name": "DescriptionStyleModel",
          "model_module_version": "1.5.0",
          "state": {
            "_model_module": "@jupyter-widgets/controls",
            "_model_module_version": "1.5.0",
            "_model_name": "DescriptionStyleModel",
            "_view_count": null,
            "_view_module": "@jupyter-widgets/base",
            "_view_module_version": "1.2.0",
            "_view_name": "StyleView",
            "description_width": ""
          }
        },
        "bd38f0285e444034ab504cd7dbbc3474": {
          "model_module": "@jupyter-widgets/controls",
          "model_name": "HBoxModel",
          "model_module_version": "1.5.0",
          "state": {
            "_dom_classes": [],
            "_model_module": "@jupyter-widgets/controls",
            "_model_module_version": "1.5.0",
            "_model_name": "HBoxModel",
            "_view_count": null,
            "_view_module": "@jupyter-widgets/controls",
            "_view_module_version": "1.5.0",
            "_view_name": "HBoxView",
            "box_style": "",
            "children": [
              "IPY_MODEL_168fc5e1b50a452ea1fc7db7dcb13ee7",
              "IPY_MODEL_5c19abd723ea484ba03a86efba2768a0",
              "IPY_MODEL_36145723499549868e7dab72a4f51a7e"
            ],
            "layout": "IPY_MODEL_5ea156dc5721447e8362d780baaceaab"
          }
        },
        "168fc5e1b50a452ea1fc7db7dcb13ee7": {
          "model_module": "@jupyter-widgets/controls",
          "model_name": "HTMLModel",
          "model_module_version": "1.5.0",
          "state": {
            "_dom_classes": [],
            "_model_module": "@jupyter-widgets/controls",
            "_model_module_version": "1.5.0",
            "_model_name": "HTMLModel",
            "_view_count": null,
            "_view_module": "@jupyter-widgets/controls",
            "_view_module_version": "1.5.0",
            "_view_name": "HTMLView",
            "description": "",
            "description_tooltip": null,
            "layout": "IPY_MODEL_8f6859db34d14ccf965ccb6001277ae7",
            "placeholder": "​",
            "style": "IPY_MODEL_48f30bc5698a4324a1007cb3d80a282f",
            "value": "Downloading (…)cial_tokens_map.json: 100%"
          }
        },
        "5c19abd723ea484ba03a86efba2768a0": {
          "model_module": "@jupyter-widgets/controls",
          "model_name": "FloatProgressModel",
          "model_module_version": "1.5.0",
          "state": {
            "_dom_classes": [],
            "_model_module": "@jupyter-widgets/controls",
            "_model_module_version": "1.5.0",
            "_model_name": "FloatProgressModel",
            "_view_count": null,
            "_view_module": "@jupyter-widgets/controls",
            "_view_module_version": "1.5.0",
            "_view_name": "ProgressView",
            "bar_style": "success",
            "description": "",
            "description_tooltip": null,
            "layout": "IPY_MODEL_c9199169f3c64b289a1533e5b919cf21",
            "max": 125,
            "min": 0,
            "orientation": "horizontal",
            "style": "IPY_MODEL_1eaecb1dba59404db128a79880b7a911",
            "value": 125
          }
        },
        "36145723499549868e7dab72a4f51a7e": {
          "model_module": "@jupyter-widgets/controls",
          "model_name": "HTMLModel",
          "model_module_version": "1.5.0",
          "state": {
            "_dom_classes": [],
            "_model_module": "@jupyter-widgets/controls",
            "_model_module_version": "1.5.0",
            "_model_name": "HTMLModel",
            "_view_count": null,
            "_view_module": "@jupyter-widgets/controls",
            "_view_module_version": "1.5.0",
            "_view_name": "HTMLView",
            "description": "",
            "description_tooltip": null,
            "layout": "IPY_MODEL_4cdb829f73dc4ce99435f3e53db91aba",
            "placeholder": "​",
            "style": "IPY_MODEL_d39ef12f499840d8b72f61a744c71279",
            "value": " 125/125 [00:00&lt;00:00, 2.46kB/s]"
          }
        },
        "5ea156dc5721447e8362d780baaceaab": {
          "model_module": "@jupyter-widgets/base",
          "model_name": "LayoutModel",
          "model_module_version": "1.2.0",
          "state": {
            "_model_module": "@jupyter-widgets/base",
            "_model_module_version": "1.2.0",
            "_model_name": "LayoutModel",
            "_view_count": null,
            "_view_module": "@jupyter-widgets/base",
            "_view_module_version": "1.2.0",
            "_view_name": "LayoutView",
            "align_content": null,
            "align_items": null,
            "align_self": null,
            "border": null,
            "bottom": null,
            "display": null,
            "flex": null,
            "flex_flow": null,
            "grid_area": null,
            "grid_auto_columns": null,
            "grid_auto_flow": null,
            "grid_auto_rows": null,
            "grid_column": null,
            "grid_gap": null,
            "grid_row": null,
            "grid_template_areas": null,
            "grid_template_columns": null,
            "grid_template_rows": null,
            "height": null,
            "justify_content": null,
            "justify_items": null,
            "left": null,
            "margin": null,
            "max_height": null,
            "max_width": null,
            "min_height": null,
            "min_width": null,
            "object_fit": null,
            "object_position": null,
            "order": null,
            "overflow": null,
            "overflow_x": null,
            "overflow_y": null,
            "padding": null,
            "right": null,
            "top": null,
            "visibility": null,
            "width": null
          }
        },
        "8f6859db34d14ccf965ccb6001277ae7": {
          "model_module": "@jupyter-widgets/base",
          "model_name": "LayoutModel",
          "model_module_version": "1.2.0",
          "state": {
            "_model_module": "@jupyter-widgets/base",
            "_model_module_version": "1.2.0",
            "_model_name": "LayoutModel",
            "_view_count": null,
            "_view_module": "@jupyter-widgets/base",
            "_view_module_version": "1.2.0",
            "_view_name": "LayoutView",
            "align_content": null,
            "align_items": null,
            "align_self": null,
            "border": null,
            "bottom": null,
            "display": null,
            "flex": null,
            "flex_flow": null,
            "grid_area": null,
            "grid_auto_columns": null,
            "grid_auto_flow": null,
            "grid_auto_rows": null,
            "grid_column": null,
            "grid_gap": null,
            "grid_row": null,
            "grid_template_areas": null,
            "grid_template_columns": null,
            "grid_template_rows": null,
            "height": null,
            "justify_content": null,
            "justify_items": null,
            "left": null,
            "margin": null,
            "max_height": null,
            "max_width": null,
            "min_height": null,
            "min_width": null,
            "object_fit": null,
            "object_position": null,
            "order": null,
            "overflow": null,
            "overflow_x": null,
            "overflow_y": null,
            "padding": null,
            "right": null,
            "top": null,
            "visibility": null,
            "width": null
          }
        },
        "48f30bc5698a4324a1007cb3d80a282f": {
          "model_module": "@jupyter-widgets/controls",
          "model_name": "DescriptionStyleModel",
          "model_module_version": "1.5.0",
          "state": {
            "_model_module": "@jupyter-widgets/controls",
            "_model_module_version": "1.5.0",
            "_model_name": "DescriptionStyleModel",
            "_view_count": null,
            "_view_module": "@jupyter-widgets/base",
            "_view_module_version": "1.2.0",
            "_view_name": "StyleView",
            "description_width": ""
          }
        },
        "c9199169f3c64b289a1533e5b919cf21": {
          "model_module": "@jupyter-widgets/base",
          "model_name": "LayoutModel",
          "model_module_version": "1.2.0",
          "state": {
            "_model_module": "@jupyter-widgets/base",
            "_model_module_version": "1.2.0",
            "_model_name": "LayoutModel",
            "_view_count": null,
            "_view_module": "@jupyter-widgets/base",
            "_view_module_version": "1.2.0",
            "_view_name": "LayoutView",
            "align_content": null,
            "align_items": null,
            "align_self": null,
            "border": null,
            "bottom": null,
            "display": null,
            "flex": null,
            "flex_flow": null,
            "grid_area": null,
            "grid_auto_columns": null,
            "grid_auto_flow": null,
            "grid_auto_rows": null,
            "grid_column": null,
            "grid_gap": null,
            "grid_row": null,
            "grid_template_areas": null,
            "grid_template_columns": null,
            "grid_template_rows": null,
            "height": null,
            "justify_content": null,
            "justify_items": null,
            "left": null,
            "margin": null,
            "max_height": null,
            "max_width": null,
            "min_height": null,
            "min_width": null,
            "object_fit": null,
            "object_position": null,
            "order": null,
            "overflow": null,
            "overflow_x": null,
            "overflow_y": null,
            "padding": null,
            "right": null,
            "top": null,
            "visibility": null,
            "width": null
          }
        },
        "1eaecb1dba59404db128a79880b7a911": {
          "model_module": "@jupyter-widgets/controls",
          "model_name": "ProgressStyleModel",
          "model_module_version": "1.5.0",
          "state": {
            "_model_module": "@jupyter-widgets/controls",
            "_model_module_version": "1.5.0",
            "_model_name": "ProgressStyleModel",
            "_view_count": null,
            "_view_module": "@jupyter-widgets/base",
            "_view_module_version": "1.2.0",
            "_view_name": "StyleView",
            "bar_color": null,
            "description_width": ""
          }
        },
        "4cdb829f73dc4ce99435f3e53db91aba": {
          "model_module": "@jupyter-widgets/base",
          "model_name": "LayoutModel",
          "model_module_version": "1.2.0",
          "state": {
            "_model_module": "@jupyter-widgets/base",
            "_model_module_version": "1.2.0",
            "_model_name": "LayoutModel",
            "_view_count": null,
            "_view_module": "@jupyter-widgets/base",
            "_view_module_version": "1.2.0",
            "_view_name": "LayoutView",
            "align_content": null,
            "align_items": null,
            "align_self": null,
            "border": null,
            "bottom": null,
            "display": null,
            "flex": null,
            "flex_flow": null,
            "grid_area": null,
            "grid_auto_columns": null,
            "grid_auto_flow": null,
            "grid_auto_rows": null,
            "grid_column": null,
            "grid_gap": null,
            "grid_row": null,
            "grid_template_areas": null,
            "grid_template_columns": null,
            "grid_template_rows": null,
            "height": null,
            "justify_content": null,
            "justify_items": null,
            "left": null,
            "margin": null,
            "max_height": null,
            "max_width": null,
            "min_height": null,
            "min_width": null,
            "object_fit": null,
            "object_position": null,
            "order": null,
            "overflow": null,
            "overflow_x": null,
            "overflow_y": null,
            "padding": null,
            "right": null,
            "top": null,
            "visibility": null,
            "width": null
          }
        },
        "d39ef12f499840d8b72f61a744c71279": {
          "model_module": "@jupyter-widgets/controls",
          "model_name": "DescriptionStyleModel",
          "model_module_version": "1.5.0",
          "state": {
            "_model_module": "@jupyter-widgets/controls",
            "_model_module_version": "1.5.0",
            "_model_name": "DescriptionStyleModel",
            "_view_count": null,
            "_view_module": "@jupyter-widgets/base",
            "_view_module_version": "1.2.0",
            "_view_name": "StyleView",
            "description_width": ""
          }
        },
        "b0691eca66234c219318166a0cb5e0ee": {
          "model_module": "@jupyter-widgets/controls",
          "model_name": "HBoxModel",
          "model_module_version": "1.5.0",
          "state": {
            "_dom_classes": [],
            "_model_module": "@jupyter-widgets/controls",
            "_model_module_version": "1.5.0",
            "_model_name": "HBoxModel",
            "_view_count": null,
            "_view_module": "@jupyter-widgets/controls",
            "_view_module_version": "1.5.0",
            "_view_name": "HBoxView",
            "box_style": "",
            "children": [
              "IPY_MODEL_f613835b4b294e03a520739cdd5561b8",
              "IPY_MODEL_25f41c3ab8584f11a858704a409b935a",
              "IPY_MODEL_6fe707a7a9d0426f8e7306fd05807060"
            ],
            "layout": "IPY_MODEL_4d846d3250154ce3aee0f4d6374868f5"
          }
        },
        "f613835b4b294e03a520739cdd5561b8": {
          "model_module": "@jupyter-widgets/controls",
          "model_name": "HTMLModel",
          "model_module_version": "1.5.0",
          "state": {
            "_dom_classes": [],
            "_model_module": "@jupyter-widgets/controls",
            "_model_module_version": "1.5.0",
            "_model_name": "HTMLModel",
            "_view_count": null,
            "_view_module": "@jupyter-widgets/controls",
            "_view_module_version": "1.5.0",
            "_view_name": "HTMLView",
            "description": "",
            "description_tooltip": null,
            "layout": "IPY_MODEL_886ba067422e453398f361acc0c5c29c",
            "placeholder": "​",
            "style": "IPY_MODEL_aa7684bda21e424aaf7ad2f24090b9a9",
            "value": "Downloading (…)lve/main/config.json: 100%"
          }
        },
        "25f41c3ab8584f11a858704a409b935a": {
          "model_module": "@jupyter-widgets/controls",
          "model_name": "FloatProgressModel",
          "model_module_version": "1.5.0",
          "state": {
            "_dom_classes": [],
            "_model_module": "@jupyter-widgets/controls",
            "_model_module_version": "1.5.0",
            "_model_name": "FloatProgressModel",
            "_view_count": null,
            "_view_module": "@jupyter-widgets/controls",
            "_view_module_version": "1.5.0",
            "_view_name": "ProgressView",
            "bar_style": "success",
            "description": "",
            "description_tooltip": null,
            "layout": "IPY_MODEL_4b4e1d165729419da190ab9dbf0f37db",
            "max": 778,
            "min": 0,
            "orientation": "horizontal",
            "style": "IPY_MODEL_50225237726d44a19b0561af92be853f",
            "value": 778
          }
        },
        "6fe707a7a9d0426f8e7306fd05807060": {
          "model_module": "@jupyter-widgets/controls",
          "model_name": "HTMLModel",
          "model_module_version": "1.5.0",
          "state": {
            "_dom_classes": [],
            "_model_module": "@jupyter-widgets/controls",
            "_model_module_version": "1.5.0",
            "_model_name": "HTMLModel",
            "_view_count": null,
            "_view_module": "@jupyter-widgets/controls",
            "_view_module_version": "1.5.0",
            "_view_name": "HTMLView",
            "description": "",
            "description_tooltip": null,
            "layout": "IPY_MODEL_90b819391191478c99d6afa93d21d51a",
            "placeholder": "​",
            "style": "IPY_MODEL_90b68b093fea4866be28f59bc30cabc7",
            "value": " 778/778 [00:00&lt;00:00, 9.78kB/s]"
          }
        },
        "4d846d3250154ce3aee0f4d6374868f5": {
          "model_module": "@jupyter-widgets/base",
          "model_name": "LayoutModel",
          "model_module_version": "1.2.0",
          "state": {
            "_model_module": "@jupyter-widgets/base",
            "_model_module_version": "1.2.0",
            "_model_name": "LayoutModel",
            "_view_count": null,
            "_view_module": "@jupyter-widgets/base",
            "_view_module_version": "1.2.0",
            "_view_name": "LayoutView",
            "align_content": null,
            "align_items": null,
            "align_self": null,
            "border": null,
            "bottom": null,
            "display": null,
            "flex": null,
            "flex_flow": null,
            "grid_area": null,
            "grid_auto_columns": null,
            "grid_auto_flow": null,
            "grid_auto_rows": null,
            "grid_column": null,
            "grid_gap": null,
            "grid_row": null,
            "grid_template_areas": null,
            "grid_template_columns": null,
            "grid_template_rows": null,
            "height": null,
            "justify_content": null,
            "justify_items": null,
            "left": null,
            "margin": null,
            "max_height": null,
            "max_width": null,
            "min_height": null,
            "min_width": null,
            "object_fit": null,
            "object_position": null,
            "order": null,
            "overflow": null,
            "overflow_x": null,
            "overflow_y": null,
            "padding": null,
            "right": null,
            "top": null,
            "visibility": null,
            "width": null
          }
        },
        "886ba067422e453398f361acc0c5c29c": {
          "model_module": "@jupyter-widgets/base",
          "model_name": "LayoutModel",
          "model_module_version": "1.2.0",
          "state": {
            "_model_module": "@jupyter-widgets/base",
            "_model_module_version": "1.2.0",
            "_model_name": "LayoutModel",
            "_view_count": null,
            "_view_module": "@jupyter-widgets/base",
            "_view_module_version": "1.2.0",
            "_view_name": "LayoutView",
            "align_content": null,
            "align_items": null,
            "align_self": null,
            "border": null,
            "bottom": null,
            "display": null,
            "flex": null,
            "flex_flow": null,
            "grid_area": null,
            "grid_auto_columns": null,
            "grid_auto_flow": null,
            "grid_auto_rows": null,
            "grid_column": null,
            "grid_gap": null,
            "grid_row": null,
            "grid_template_areas": null,
            "grid_template_columns": null,
            "grid_template_rows": null,
            "height": null,
            "justify_content": null,
            "justify_items": null,
            "left": null,
            "margin": null,
            "max_height": null,
            "max_width": null,
            "min_height": null,
            "min_width": null,
            "object_fit": null,
            "object_position": null,
            "order": null,
            "overflow": null,
            "overflow_x": null,
            "overflow_y": null,
            "padding": null,
            "right": null,
            "top": null,
            "visibility": null,
            "width": null
          }
        },
        "aa7684bda21e424aaf7ad2f24090b9a9": {
          "model_module": "@jupyter-widgets/controls",
          "model_name": "DescriptionStyleModel",
          "model_module_version": "1.5.0",
          "state": {
            "_model_module": "@jupyter-widgets/controls",
            "_model_module_version": "1.5.0",
            "_model_name": "DescriptionStyleModel",
            "_view_count": null,
            "_view_module": "@jupyter-widgets/base",
            "_view_module_version": "1.2.0",
            "_view_name": "StyleView",
            "description_width": ""
          }
        },
        "4b4e1d165729419da190ab9dbf0f37db": {
          "model_module": "@jupyter-widgets/base",
          "model_name": "LayoutModel",
          "model_module_version": "1.2.0",
          "state": {
            "_model_module": "@jupyter-widgets/base",
            "_model_module_version": "1.2.0",
            "_model_name": "LayoutModel",
            "_view_count": null,
            "_view_module": "@jupyter-widgets/base",
            "_view_module_version": "1.2.0",
            "_view_name": "LayoutView",
            "align_content": null,
            "align_items": null,
            "align_self": null,
            "border": null,
            "bottom": null,
            "display": null,
            "flex": null,
            "flex_flow": null,
            "grid_area": null,
            "grid_auto_columns": null,
            "grid_auto_flow": null,
            "grid_auto_rows": null,
            "grid_column": null,
            "grid_gap": null,
            "grid_row": null,
            "grid_template_areas": null,
            "grid_template_columns": null,
            "grid_template_rows": null,
            "height": null,
            "justify_content": null,
            "justify_items": null,
            "left": null,
            "margin": null,
            "max_height": null,
            "max_width": null,
            "min_height": null,
            "min_width": null,
            "object_fit": null,
            "object_position": null,
            "order": null,
            "overflow": null,
            "overflow_x": null,
            "overflow_y": null,
            "padding": null,
            "right": null,
            "top": null,
            "visibility": null,
            "width": null
          }
        },
        "50225237726d44a19b0561af92be853f": {
          "model_module": "@jupyter-widgets/controls",
          "model_name": "ProgressStyleModel",
          "model_module_version": "1.5.0",
          "state": {
            "_model_module": "@jupyter-widgets/controls",
            "_model_module_version": "1.5.0",
            "_model_name": "ProgressStyleModel",
            "_view_count": null,
            "_view_module": "@jupyter-widgets/base",
            "_view_module_version": "1.2.0",
            "_view_name": "StyleView",
            "bar_color": null,
            "description_width": ""
          }
        },
        "90b819391191478c99d6afa93d21d51a": {
          "model_module": "@jupyter-widgets/base",
          "model_name": "LayoutModel",
          "model_module_version": "1.2.0",
          "state": {
            "_model_module": "@jupyter-widgets/base",
            "_model_module_version": "1.2.0",
            "_model_name": "LayoutModel",
            "_view_count": null,
            "_view_module": "@jupyter-widgets/base",
            "_view_module_version": "1.2.0",
            "_view_name": "LayoutView",
            "align_content": null,
            "align_items": null,
            "align_self": null,
            "border": null,
            "bottom": null,
            "display": null,
            "flex": null,
            "flex_flow": null,
            "grid_area": null,
            "grid_auto_columns": null,
            "grid_auto_flow": null,
            "grid_auto_rows": null,
            "grid_column": null,
            "grid_gap": null,
            "grid_row": null,
            "grid_template_areas": null,
            "grid_template_columns": null,
            "grid_template_rows": null,
            "height": null,
            "justify_content": null,
            "justify_items": null,
            "left": null,
            "margin": null,
            "max_height": null,
            "max_width": null,
            "min_height": null,
            "min_width": null,
            "object_fit": null,
            "object_position": null,
            "order": null,
            "overflow": null,
            "overflow_x": null,
            "overflow_y": null,
            "padding": null,
            "right": null,
            "top": null,
            "visibility": null,
            "width": null
          }
        },
        "90b68b093fea4866be28f59bc30cabc7": {
          "model_module": "@jupyter-widgets/controls",
          "model_name": "DescriptionStyleModel",
          "model_module_version": "1.5.0",
          "state": {
            "_model_module": "@jupyter-widgets/controls",
            "_model_module_version": "1.5.0",
            "_model_name": "DescriptionStyleModel",
            "_view_count": null,
            "_view_module": "@jupyter-widgets/base",
            "_view_module_version": "1.2.0",
            "_view_name": "StyleView",
            "description_width": ""
          }
        },
        "c330a7c83355458f8b50e6191c3836e3": {
          "model_module": "@jupyter-widgets/controls",
          "model_name": "HBoxModel",
          "model_module_version": "1.5.0",
          "state": {
            "_dom_classes": [],
            "_model_module": "@jupyter-widgets/controls",
            "_model_module_version": "1.5.0",
            "_model_name": "HBoxModel",
            "_view_count": null,
            "_view_module": "@jupyter-widgets/controls",
            "_view_module_version": "1.5.0",
            "_view_name": "HBoxView",
            "box_style": "",
            "children": [
              "IPY_MODEL_fd87ee8321f14cdb9ef260381fcebe86",
              "IPY_MODEL_2330de27a30942e7ae6d87bb3fbeb2e7",
              "IPY_MODEL_bc3f9e9511614341b6bd02aa7c06f8c3"
            ],
            "layout": "IPY_MODEL_411ad14c8a354a62bc3dee81cdfbf989"
          }
        },
        "fd87ee8321f14cdb9ef260381fcebe86": {
          "model_module": "@jupyter-widgets/controls",
          "model_name": "HTMLModel",
          "model_module_version": "1.5.0",
          "state": {
            "_dom_classes": [],
            "_model_module": "@jupyter-widgets/controls",
            "_model_module_version": "1.5.0",
            "_model_name": "HTMLModel",
            "_view_count": null,
            "_view_module": "@jupyter-widgets/controls",
            "_view_module_version": "1.5.0",
            "_view_name": "HTMLView",
            "description": "",
            "description_tooltip": null,
            "layout": "IPY_MODEL_0153e3d34ae54164a63a74a2ec24ab74",
            "placeholder": "​",
            "style": "IPY_MODEL_36348b8240a846bea489a706fd14901e",
            "value": "Downloading model.safetensors: 100%"
          }
        },
        "2330de27a30942e7ae6d87bb3fbeb2e7": {
          "model_module": "@jupyter-widgets/controls",
          "model_name": "FloatProgressModel",
          "model_module_version": "1.5.0",
          "state": {
            "_dom_classes": [],
            "_model_module": "@jupyter-widgets/controls",
            "_model_module_version": "1.5.0",
            "_model_name": "FloatProgressModel",
            "_view_count": null,
            "_view_module": "@jupyter-widgets/controls",
            "_view_module_version": "1.5.0",
            "_view_name": "ProgressView",
            "bar_style": "success",
            "description": "",
            "description_tooltip": null,
            "layout": "IPY_MODEL_d0b8cd6739f046fd9f01372c1de5c7e1",
            "max": 1340612432,
            "min": 0,
            "orientation": "horizontal",
            "style": "IPY_MODEL_25c4c89b652548dfaf0f2b26cb34f21b",
            "value": 1340612432
          }
        },
        "bc3f9e9511614341b6bd02aa7c06f8c3": {
          "model_module": "@jupyter-widgets/controls",
          "model_name": "HTMLModel",
          "model_module_version": "1.5.0",
          "state": {
            "_dom_classes": [],
            "_model_module": "@jupyter-widgets/controls",
            "_model_module_version": "1.5.0",
            "_model_name": "HTMLModel",
            "_view_count": null,
            "_view_module": "@jupyter-widgets/controls",
            "_view_module_version": "1.5.0",
            "_view_name": "HTMLView",
            "description": "",
            "description_tooltip": null,
            "layout": "IPY_MODEL_04884acc26e149988db11037e3127252",
            "placeholder": "​",
            "style": "IPY_MODEL_211152e1250f497c84109c924996d15e",
            "value": " 1.34G/1.34G [00:38&lt;00:00, 39.6MB/s]"
          }
        },
        "411ad14c8a354a62bc3dee81cdfbf989": {
          "model_module": "@jupyter-widgets/base",
          "model_name": "LayoutModel",
          "model_module_version": "1.2.0",
          "state": {
            "_model_module": "@jupyter-widgets/base",
            "_model_module_version": "1.2.0",
            "_model_name": "LayoutModel",
            "_view_count": null,
            "_view_module": "@jupyter-widgets/base",
            "_view_module_version": "1.2.0",
            "_view_name": "LayoutView",
            "align_content": null,
            "align_items": null,
            "align_self": null,
            "border": null,
            "bottom": null,
            "display": null,
            "flex": null,
            "flex_flow": null,
            "grid_area": null,
            "grid_auto_columns": null,
            "grid_auto_flow": null,
            "grid_auto_rows": null,
            "grid_column": null,
            "grid_gap": null,
            "grid_row": null,
            "grid_template_areas": null,
            "grid_template_columns": null,
            "grid_template_rows": null,
            "height": null,
            "justify_content": null,
            "justify_items": null,
            "left": null,
            "margin": null,
            "max_height": null,
            "max_width": null,
            "min_height": null,
            "min_width": null,
            "object_fit": null,
            "object_position": null,
            "order": null,
            "overflow": null,
            "overflow_x": null,
            "overflow_y": null,
            "padding": null,
            "right": null,
            "top": null,
            "visibility": null,
            "width": null
          }
        },
        "0153e3d34ae54164a63a74a2ec24ab74": {
          "model_module": "@jupyter-widgets/base",
          "model_name": "LayoutModel",
          "model_module_version": "1.2.0",
          "state": {
            "_model_module": "@jupyter-widgets/base",
            "_model_module_version": "1.2.0",
            "_model_name": "LayoutModel",
            "_view_count": null,
            "_view_module": "@jupyter-widgets/base",
            "_view_module_version": "1.2.0",
            "_view_name": "LayoutView",
            "align_content": null,
            "align_items": null,
            "align_self": null,
            "border": null,
            "bottom": null,
            "display": null,
            "flex": null,
            "flex_flow": null,
            "grid_area": null,
            "grid_auto_columns": null,
            "grid_auto_flow": null,
            "grid_auto_rows": null,
            "grid_column": null,
            "grid_gap": null,
            "grid_row": null,
            "grid_template_areas": null,
            "grid_template_columns": null,
            "grid_template_rows": null,
            "height": null,
            "justify_content": null,
            "justify_items": null,
            "left": null,
            "margin": null,
            "max_height": null,
            "max_width": null,
            "min_height": null,
            "min_width": null,
            "object_fit": null,
            "object_position": null,
            "order": null,
            "overflow": null,
            "overflow_x": null,
            "overflow_y": null,
            "padding": null,
            "right": null,
            "top": null,
            "visibility": null,
            "width": null
          }
        },
        "36348b8240a846bea489a706fd14901e": {
          "model_module": "@jupyter-widgets/controls",
          "model_name": "DescriptionStyleModel",
          "model_module_version": "1.5.0",
          "state": {
            "_model_module": "@jupyter-widgets/controls",
            "_model_module_version": "1.5.0",
            "_model_name": "DescriptionStyleModel",
            "_view_count": null,
            "_view_module": "@jupyter-widgets/base",
            "_view_module_version": "1.2.0",
            "_view_name": "StyleView",
            "description_width": ""
          }
        },
        "d0b8cd6739f046fd9f01372c1de5c7e1": {
          "model_module": "@jupyter-widgets/base",
          "model_name": "LayoutModel",
          "model_module_version": "1.2.0",
          "state": {
            "_model_module": "@jupyter-widgets/base",
            "_model_module_version": "1.2.0",
            "_model_name": "LayoutModel",
            "_view_count": null,
            "_view_module": "@jupyter-widgets/base",
            "_view_module_version": "1.2.0",
            "_view_name": "LayoutView",
            "align_content": null,
            "align_items": null,
            "align_self": null,
            "border": null,
            "bottom": null,
            "display": null,
            "flex": null,
            "flex_flow": null,
            "grid_area": null,
            "grid_auto_columns": null,
            "grid_auto_flow": null,
            "grid_auto_rows": null,
            "grid_column": null,
            "grid_gap": null,
            "grid_row": null,
            "grid_template_areas": null,
            "grid_template_columns": null,
            "grid_template_rows": null,
            "height": null,
            "justify_content": null,
            "justify_items": null,
            "left": null,
            "margin": null,
            "max_height": null,
            "max_width": null,
            "min_height": null,
            "min_width": null,
            "object_fit": null,
            "object_position": null,
            "order": null,
            "overflow": null,
            "overflow_x": null,
            "overflow_y": null,
            "padding": null,
            "right": null,
            "top": null,
            "visibility": null,
            "width": null
          }
        },
        "25c4c89b652548dfaf0f2b26cb34f21b": {
          "model_module": "@jupyter-widgets/controls",
          "model_name": "ProgressStyleModel",
          "model_module_version": "1.5.0",
          "state": {
            "_model_module": "@jupyter-widgets/controls",
            "_model_module_version": "1.5.0",
            "_model_name": "ProgressStyleModel",
            "_view_count": null,
            "_view_module": "@jupyter-widgets/base",
            "_view_module_version": "1.2.0",
            "_view_name": "StyleView",
            "bar_color": null,
            "description_width": ""
          }
        },
        "04884acc26e149988db11037e3127252": {
          "model_module": "@jupyter-widgets/base",
          "model_name": "LayoutModel",
          "model_module_version": "1.2.0",
          "state": {
            "_model_module": "@jupyter-widgets/base",
            "_model_module_version": "1.2.0",
            "_model_name": "LayoutModel",
            "_view_count": null,
            "_view_module": "@jupyter-widgets/base",
            "_view_module_version": "1.2.0",
            "_view_name": "LayoutView",
            "align_content": null,
            "align_items": null,
            "align_self": null,
            "border": null,
            "bottom": null,
            "display": null,
            "flex": null,
            "flex_flow": null,
            "grid_area": null,
            "grid_auto_columns": null,
            "grid_auto_flow": null,
            "grid_auto_rows": null,
            "grid_column": null,
            "grid_gap": null,
            "grid_row": null,
            "grid_template_areas": null,
            "grid_template_columns": null,
            "grid_template_rows": null,
            "height": null,
            "justify_content": null,
            "justify_items": null,
            "left": null,
            "margin": null,
            "max_height": null,
            "max_width": null,
            "min_height": null,
            "min_width": null,
            "object_fit": null,
            "object_position": null,
            "order": null,
            "overflow": null,
            "overflow_x": null,
            "overflow_y": null,
            "padding": null,
            "right": null,
            "top": null,
            "visibility": null,
            "width": null
          }
        },
        "211152e1250f497c84109c924996d15e": {
          "model_module": "@jupyter-widgets/controls",
          "model_name": "DescriptionStyleModel",
          "model_module_version": "1.5.0",
          "state": {
            "_model_module": "@jupyter-widgets/controls",
            "_model_module_version": "1.5.0",
            "_model_name": "DescriptionStyleModel",
            "_view_count": null,
            "_view_module": "@jupyter-widgets/base",
            "_view_module_version": "1.2.0",
            "_view_name": "StyleView",
            "description_width": ""
          }
        }
      }
    }
  },
  "cells": [
    {
      "cell_type": "markdown",
      "metadata": {
        "id": "view-in-github",
        "colab_type": "text"
      },
      "source": [
        "<a href=\"https://colab.research.google.com/github/tonykipkemboi/milvus-youtube-notebook/blob/main/milvus.ipynb\" target=\"_parent\"><img src=\"https://colab.research.google.com/assets/colab-badge.svg\" alt=\"Open In Colab\"/></a>"
      ]
    },
    {
      "cell_type": "markdown",
      "source": [
        "# Transcript-based Video Retrieval System using Milvus, YouTube API, and Transformers"
      ],
      "metadata": {
        "id": "UQLfujixm-ot"
      }
    },
    {
      "cell_type": "markdown",
      "source": [
        "## Introduction\n",
        "\n",
        "The essence is to utilize the textual data from YouTube video transcripts, transform them into vector embeddings, and store these embeddings in Milvus for efficient similarity search."
      ],
      "metadata": {
        "id": "QcEnHC5OJ8wu"
      }
    },
    {
      "cell_type": "code",
      "execution_count": 3,
      "metadata": {
        "id": "GRjxhGC28iKG"
      },
      "outputs": [],
      "source": [
        "! pip install --q --upgrade google-api-python-client google-auth-httplib2 google-auth-oauthlib youtube_transcript_api pymilvus milvus transformers"
      ]
    },
    {
      "cell_type": "code",
      "source": [
        "from googleapiclient.discovery import build\n",
        "from youtube_transcript_api import YouTubeTranscriptApi\n",
        "from functools import lru_cache"
      ],
      "metadata": {
        "id": "W9ZOlrbN8tZD"
      },
      "execution_count": 4,
      "outputs": []
    },
    {
      "cell_type": "markdown",
      "source": [
        "## Gathering Data: YouTube API\n",
        "\n",
        "The first step is to gather the transcripts of the videos from a specific YouTube playlist. For this project, I chose the \"*Vector Database Fundamentals*\" playlist from the Zilliz channel because it has shorter transcripts."
      ],
      "metadata": {
        "id": "npn594t6KwUQ"
      }
    },
    {
      "cell_type": "code",
      "source": [
        "youtube = build('youtube', 'v3', developerKey='YOUR-KEY-HERE')"
      ],
      "metadata": {
        "id": "XkBmd-WUPh_I"
      },
      "execution_count": 74,
      "outputs": []
    },
    {
      "cell_type": "code",
      "source": [
        "@lru_cache(maxsize=50)\n",
        "def get_channel_id(channel_title):\n",
        "    request = youtube.search().list(\n",
        "        q=channel_title,\n",
        "        type='channel',\n",
        "        part='id',\n",
        "        maxResults=1\n",
        "    )\n",
        "    response = request.execute()\n",
        "    if response['items']:\n",
        "        return response['items'][0]['id']['channelId']\n",
        "    return None"
      ],
      "metadata": {
        "id": "NIhDKwudaYhe"
      },
      "execution_count": 6,
      "outputs": []
    },
    {
      "cell_type": "code",
      "source": [
        "@lru_cache(maxsize=50)\n",
        "def fetch_playlists(channel_title, topic):\n",
        "    channel_id = get_channel_id(channel_title)\n",
        "    if not channel_id:\n",
        "        print(f\"No channel found for title: {channel_title}\")\n",
        "        return None\n",
        "\n",
        "    request = youtube.search().list(\n",
        "        q=topic,\n",
        "        type='playlist',\n",
        "        channelId=channel_id,\n",
        "        part='snippet',\n",
        "        maxResults=5\n",
        "    )\n",
        "    response = request.execute()\n",
        "    playlist = next((item for item in response['items'] if item['snippet']['title'] == topic), None)\n",
        "    return playlist"
      ],
      "metadata": {
        "id": "UdNqs9Z0QBTn"
      },
      "execution_count": 7,
      "outputs": []
    },
    {
      "cell_type": "code",
      "source": [
        "# Search specific channel title and topic\n",
        "playlist = fetch_playlists(\"Zilliz\", \"Vector Database Fundamentals\")\n",
        "playlist"
      ],
      "metadata": {
        "colab": {
          "base_uri": "https://localhost:8080/"
        },
        "id": "7iouNcNlbIfj",
        "outputId": "482af5a1-ca1c-4ccd-beee-11e14afbed19"
      },
      "execution_count": 8,
      "outputs": [
        {
          "output_type": "execute_result",
          "data": {
            "text/plain": [
              "{'kind': 'youtube#searchResult',\n",
              " 'etag': 'lWJxKqvU9lcbxknnk96EQUfY9nw',\n",
              " 'id': {'kind': 'youtube#playlist',\n",
              "  'playlistId': 'PLPg7_faNDlT6wXMi2vfG0zJ6pK-gq6KE8'},\n",
              " 'snippet': {'publishedAt': '2023-07-21T03:04:19Z',\n",
              "  'channelId': 'UCMCo_F7pKjMHBlfyxwOPw-g',\n",
              "  'title': 'Vector Database Fundamentals',\n",
              "  'description': 'Learn the basics of vector databases, indexes and developer tooling.',\n",
              "  'thumbnails': {'default': {'url': 'https://i.ytimg.com/vi/fhzDrXCpIRQ/default.jpg',\n",
              "    'width': 120,\n",
              "    'height': 90},\n",
              "   'medium': {'url': 'https://i.ytimg.com/vi/fhzDrXCpIRQ/mqdefault.jpg',\n",
              "    'width': 320,\n",
              "    'height': 180},\n",
              "   'high': {'url': 'https://i.ytimg.com/vi/fhzDrXCpIRQ/hqdefault.jpg',\n",
              "    'width': 480,\n",
              "    'height': 360}},\n",
              "  'channelTitle': 'Zilliz',\n",
              "  'liveBroadcastContent': 'none',\n",
              "  'publishTime': '2023-07-21T03:04:19Z'}}"
            ]
          },
          "metadata": {},
          "execution_count": 8
        }
      ]
    },
    {
      "cell_type": "code",
      "source": [
        "@lru_cache(maxsize=50)\n",
        "def fetch_video_ids(playlist):\n",
        "    request = youtube.playlistItems().list(\n",
        "        playlistId=playlist,\n",
        "        maxResults=15,\n",
        "        part=\"snippet\"\n",
        "    )\n",
        "    response = request.execute()\n",
        "    video_ids = [item['snippet']['resourceId']['videoId'] for item in response['items']]\n",
        "    return video_ids"
      ],
      "metadata": {
        "id": "4XpgMkavP6bT"
      },
      "execution_count": 9,
      "outputs": []
    },
    {
      "cell_type": "code",
      "source": [
        "all_video_ids = fetch_video_ids(playlist['id']['playlistId'])\n",
        "all_video_ids"
      ],
      "metadata": {
        "colab": {
          "base_uri": "https://localhost:8080/"
        },
        "id": "5Jk7pKPsS3_I",
        "outputId": "41cfa5f0-d95b-4046-b067-d89d9053aee7"
      },
      "execution_count": 10,
      "outputs": [
        {
          "output_type": "execute_result",
          "data": {
            "text/plain": [
              "['fhzDrXCpIRQ',\n",
              " 'v1AiTcwZaRY',\n",
              " 'VOerTAir9SU',\n",
              " '5Fhz6W6-E_8',\n",
              " 'm3WwttSBDvo',\n",
              " 'o-eE-HZzUQY',\n",
              " 'Yg64cgeNhkE',\n",
              " '7M798u_J3rg']"
            ]
          },
          "metadata": {},
          "execution_count": 10
        }
      ]
    },
    {
      "cell_type": "markdown",
      "source": [
        "## Fetching Transcripts: YouTube Transcript API\n",
        "\n",
        "With the video IDs in hand, the next quest was to fetch the transcripts. However, a snag I hit, while testing other playlists, was that some videos didn’t have transcripts. Haven't explored that rabbithole enough atm."
      ],
      "metadata": {
        "id": "OMuGrh2jtufN"
      }
    },
    {
      "cell_type": "code",
      "source": [
        "@lru_cache(maxsize=50)\n",
        "def get_transcripts(video_ids: tuple):\n",
        "    transcripts = {}\n",
        "    for video_id in video_ids:\n",
        "        try:\n",
        "            transcript = YouTubeTranscriptApi.get_transcript(video_id)\n",
        "            transcripts[video_id] = transcript\n",
        "        except:\n",
        "            pass  # TO-DO: Handle videos without transcripts\n",
        "    return transcripts"
      ],
      "metadata": {
        "id": "iPV3uJjCRukb"
      },
      "execution_count": 11,
      "outputs": []
    },
    {
      "cell_type": "code",
      "source": [
        "# Convert video_ids lists to tuples before passing to get_transcripts\n",
        "all_transcripts = {playlist['id']['playlistId']: get_transcripts(tuple(all_video_ids))}"
      ],
      "metadata": {
        "id": "gjdW4UJNdcmN"
      },
      "execution_count": 12,
      "outputs": []
    },
    {
      "cell_type": "code",
      "source": [
        "all_transcripts['PLPg7_faNDlT6wXMi2vfG0zJ6pK-gq6KE8']['fhzDrXCpIRQ'][0]"
      ],
      "metadata": {
        "colab": {
          "base_uri": "https://localhost:8080/"
        },
        "id": "4z663CCasu8N",
        "outputId": "48b6404f-12aa-45c7-d74d-468af662639d"
      },
      "execution_count": 13,
      "outputs": [
        {
          "output_type": "execute_result",
          "data": {
            "text/plain": [
              "{'text': \"hey guys it's yujin welcome to the first\",\n",
              " 'start': 5.6,\n",
              " 'duration': 5.68}"
            ]
          },
          "metadata": {},
          "execution_count": 13
        }
      ]
    },
    {
      "cell_type": "code",
      "source": [
        "playlist_id = list(all_transcripts.keys())[0]\n",
        "transcripts = all_transcripts[playlist_id]\n",
        "\n",
        "if transcripts:\n",
        "    # Get the first video_id and its transcript\n",
        "    video_id, transcript = next(iter(transcripts.items()))\n",
        "\n",
        "    # Join and print the transcript text\n",
        "    text = \" \".join([entry['text'] for entry in transcript])\n",
        "    display(text)\n",
        "else:\n",
        "    print(\"No transcripts available for this playlist.\")"
      ],
      "metadata": {
        "colab": {
          "base_uri": "https://localhost:8080/",
          "height": 196
        },
        "id": "t1CCn8iOTqn-",
        "outputId": "11b46fc8-174d-47d6-d0b3-9c5e25aff8b7"
      },
      "execution_count": 15,
      "outputs": [
        {
          "output_type": "display_data",
          "data": {
            "text/plain": [
              "\"hey guys it's yujin welcome to the first installment in our Vector database fundamentals Series today we're going to be talking about approximate nearest neighbors oh yeah or annoy there are three things that you need to know about annoy it was invented at Spotify it creates a binary tree out of your data set and it can be used as a memory efficient and computationally efficient Vector index so the way it works is you start out with your two data your two data points in your data set and then you draw the hyperplane that separates them exactly in the middle and that creates the first split of your binary tree then you do this for each Leaf node of your binary tree and now you have four and you keep doing that until you reach a predetermined hyper parameter perhaps the number of data points within a region so when you query this gives you a computationally and memory efficient query because you are looking through a tree and then doing math on a much smaller subset of data\""
            ],
            "application/vnd.google.colaboratory.intrinsic+json": {
              "type": "string"
            }
          },
          "metadata": {}
        }
      ]
    },
    {
      "cell_type": "markdown",
      "source": [
        "## Text Embedding: Hugging Face Transformers\n",
        "\n",
        "Chose this model (**ember-v1**) from HF: no special reason other than it is top 3 atm.\n",
        "- https://huggingface.co/llmrails/ember-v1\n",
        "- DIMENSION: 1024\n",
        "- SEQ. LEN.: 512\n",
        "- AVG.:63.54\n",
        "\n",
        "---\n",
        "### Limitation\n",
        "This model exclusively caters to English texts, and any lengthy texts will be truncated to a maximum of 512 tokens.\n",
        "\n",
        "\n",
        "\n",
        "\n"
      ],
      "metadata": {
        "id": "92xygpDazcXc"
      }
    },
    {
      "cell_type": "code",
      "source": [
        "! pip install grpcio==1.58.0"
      ],
      "metadata": {
        "id": "wrY_mhZW2k65"
      },
      "execution_count": null,
      "outputs": []
    },
    {
      "cell_type": "code",
      "source": [
        "from transformers import AutoTokenizer, AutoModel\n",
        "from milvus import default_server\n",
        "from pymilvus import (\n",
        "    connections, utility, FieldSchema,\n",
        "    DataType, CollectionSchema, Collection)\n",
        "import torch\n",
        "\n",
        "# Initialize the tokenizer and model\n",
        "# https://huggingface.co/llmrails/ember-v1\n",
        "tokenizer = AutoTokenizer.from_pretrained(\"llmrails/ember-v1\")\n",
        "model = AutoModel.from_pretrained(\"llmrails/ember-v1\")"
      ],
      "metadata": {
        "colab": {
          "base_uri": "https://localhost:8080/",
          "height": 209,
          "referenced_widgets": [
            "161c894404dd46c78aad2d47f4806292",
            "3d073c3586ea4f16bdc7e820ec9ce2b4",
            "5adcb9748ede4ac0888e0416580a2081",
            "65a6c605e7c3468dab20106db48549d9",
            "17d88defdd9c4519aaf705990aaebd2e",
            "bac1911e2dc14cd5a86d59cf118a58d8",
            "5af64a8e31974dd494a2ca82151e8e6e",
            "06f654acb7384ac3a5d491fdf3e4eb76",
            "6edee15398f248c18d6f3661145da249",
            "f424aed470234db9a5d4896e96294d10",
            "8626e2d56efe427ca30df0bd5013e4e8",
            "b04e954607be4e3d90fd446b957fc3c6",
            "aa842f44b95a4b66b58f786c80b7eb35",
            "c2f31b8c004a4d7f970e6f7ecac8d6ff",
            "f7b4caec1bf6424f86baa2d917a40cda",
            "10a89256e7104d5e8535117ecf1ce44c",
            "dfae5bf2868e4be5b3f13995d07088f0",
            "91e09676fbc645c7b5c7e0a930597faa",
            "822c4abae1e34e7b814e1ae6ab68e57c",
            "a3fad955a9004eab9063dc407f2543f7",
            "9e7e927aa739445bbd7b5cc7db126279",
            "d008b7d2bb98432e86ddd5e7a5aa66df",
            "0f4cebbf3ef34b408055b6ad1d6e4da4",
            "1d32eeb860704bd0801ce700924795b4",
            "403cfd9439ba4b3b88ae3496028c78d1",
            "725b9c9516d74510bcd2a4a2d2a54033",
            "c5bb3869338a467ab9dec94240486e5e",
            "0b7c65637cce4ae9abbabccf84ec623c",
            "1419c9bb02b0407982f8aeec23200757",
            "271db3fb6c3d4eddb0a69693f450df13",
            "58cf68fa936f42a392319af602b52ca0",
            "39d398a3cbe64b55867a7e6ee8b4fe6a",
            "c856e7c5a442449392f509a18240a10d",
            "bd38f0285e444034ab504cd7dbbc3474",
            "168fc5e1b50a452ea1fc7db7dcb13ee7",
            "5c19abd723ea484ba03a86efba2768a0",
            "36145723499549868e7dab72a4f51a7e",
            "5ea156dc5721447e8362d780baaceaab",
            "8f6859db34d14ccf965ccb6001277ae7",
            "48f30bc5698a4324a1007cb3d80a282f",
            "c9199169f3c64b289a1533e5b919cf21",
            "1eaecb1dba59404db128a79880b7a911",
            "4cdb829f73dc4ce99435f3e53db91aba",
            "d39ef12f499840d8b72f61a744c71279",
            "b0691eca66234c219318166a0cb5e0ee",
            "f613835b4b294e03a520739cdd5561b8",
            "25f41c3ab8584f11a858704a409b935a",
            "6fe707a7a9d0426f8e7306fd05807060",
            "4d846d3250154ce3aee0f4d6374868f5",
            "886ba067422e453398f361acc0c5c29c",
            "aa7684bda21e424aaf7ad2f24090b9a9",
            "4b4e1d165729419da190ab9dbf0f37db",
            "50225237726d44a19b0561af92be853f",
            "90b819391191478c99d6afa93d21d51a",
            "90b68b093fea4866be28f59bc30cabc7",
            "c330a7c83355458f8b50e6191c3836e3",
            "fd87ee8321f14cdb9ef260381fcebe86",
            "2330de27a30942e7ae6d87bb3fbeb2e7",
            "bc3f9e9511614341b6bd02aa7c06f8c3",
            "411ad14c8a354a62bc3dee81cdfbf989",
            "0153e3d34ae54164a63a74a2ec24ab74",
            "36348b8240a846bea489a706fd14901e",
            "d0b8cd6739f046fd9f01372c1de5c7e1",
            "25c4c89b652548dfaf0f2b26cb34f21b",
            "04884acc26e149988db11037e3127252",
            "211152e1250f497c84109c924996d15e"
          ]
        },
        "id": "RyX3npVKwJ00",
        "outputId": "a7975823-f0ab-4b9c-cdbd-c43fd362697f"
      },
      "execution_count": 1,
      "outputs": [
        {
          "output_type": "display_data",
          "data": {
            "text/plain": [
              "Downloading (…)okenizer_config.json:   0%|          | 0.00/366 [00:00<?, ?B/s]"
            ],
            "application/vnd.jupyter.widget-view+json": {
              "version_major": 2,
              "version_minor": 0,
              "model_id": "161c894404dd46c78aad2d47f4806292"
            }
          },
          "metadata": {}
        },
        {
          "output_type": "display_data",
          "data": {
            "text/plain": [
              "Downloading (…)solve/main/vocab.txt:   0%|          | 0.00/232k [00:00<?, ?B/s]"
            ],
            "application/vnd.jupyter.widget-view+json": {
              "version_major": 2,
              "version_minor": 0,
              "model_id": "b04e954607be4e3d90fd446b957fc3c6"
            }
          },
          "metadata": {}
        },
        {
          "output_type": "display_data",
          "data": {
            "text/plain": [
              "Downloading (…)/main/tokenizer.json:   0%|          | 0.00/712k [00:00<?, ?B/s]"
            ],
            "application/vnd.jupyter.widget-view+json": {
              "version_major": 2,
              "version_minor": 0,
              "model_id": "0f4cebbf3ef34b408055b6ad1d6e4da4"
            }
          },
          "metadata": {}
        },
        {
          "output_type": "display_data",
          "data": {
            "text/plain": [
              "Downloading (…)cial_tokens_map.json:   0%|          | 0.00/125 [00:00<?, ?B/s]"
            ],
            "application/vnd.jupyter.widget-view+json": {
              "version_major": 2,
              "version_minor": 0,
              "model_id": "bd38f0285e444034ab504cd7dbbc3474"
            }
          },
          "metadata": {}
        },
        {
          "output_type": "display_data",
          "data": {
            "text/plain": [
              "Downloading (…)lve/main/config.json:   0%|          | 0.00/778 [00:00<?, ?B/s]"
            ],
            "application/vnd.jupyter.widget-view+json": {
              "version_major": 2,
              "version_minor": 0,
              "model_id": "b0691eca66234c219318166a0cb5e0ee"
            }
          },
          "metadata": {}
        },
        {
          "output_type": "display_data",
          "data": {
            "text/plain": [
              "Downloading model.safetensors:   0%|          | 0.00/1.34G [00:00<?, ?B/s]"
            ],
            "application/vnd.jupyter.widget-view+json": {
              "version_major": 2,
              "version_minor": 0,
              "model_id": "c330a7c83355458f8b50e6191c3836e3"
            }
          },
          "metadata": {}
        }
      ]
    },
    {
      "cell_type": "code",
      "source": [
        "def get_embedding(text):\n",
        "    # Tokenize input text\n",
        "    inputs = tokenizer(text, max_length=512, padding=True, truncation=True, return_tensors='pt')\n",
        "    outputs = model(**inputs, output_hidden_states=True)\n",
        "    embeddings = outputs.hidden_states[-1].mean(dim=1)\n",
        "\n",
        "    return embeddings"
      ],
      "metadata": {
        "id": "AHe7IK9gwMJa"
      },
      "execution_count": 22,
      "outputs": []
    },
    {
      "cell_type": "markdown",
      "source": [
        "## Storing Embeddings: Milvus"
      ],
      "metadata": {
        "id": "qPJawvMhPCcr"
      }
    },
    {
      "cell_type": "code",
      "source": [
        "# Cleanup previous data and stop server in case it is still running.\n",
        "default_server.stop()\n",
        "default_server.cleanup()\n",
        "\n",
        "# Start your milvus server\n",
        "default_server.start()\n",
        "\n",
        "# Now you could connect with localhost and the given port\n",
        "# Port is defined by default_server.listen_port\n",
        "connections.connect(host='127.0.0.1', port=default_server.listen_port)\n",
        "\n",
        "# Check if the server is ready.\n",
        "print(utility.get_server_version())"
      ],
      "metadata": {
        "colab": {
          "base_uri": "https://localhost:8080/"
        },
        "id": "tH00ZWx6yHFc",
        "outputId": "0896b93d-573c-412c-a861-7d84a99769c7"
      },
      "execution_count": 16,
      "outputs": [
        {
          "output_type": "stream",
          "name": "stdout",
          "text": [
            "v2.3.1-lite\n"
          ]
        }
      ]
    },
    {
      "cell_type": "code",
      "source": [
        "# Fields for the collection\n",
        "fields = [\n",
        "    FieldSchema(name=\"id\", dtype=DataType.INT64, is_primary=True, auto_id=True),\n",
        "    FieldSchema(name=\"embedding\", dtype=DataType.FLOAT_VECTOR, dim=1024),\n",
        "    FieldSchema(name=\"video_id\", dtype=DataType.VARCHAR, max_length=255)  # metadata\n",
        "]\n",
        "\n",
        "# Create a schema for the collection\n",
        "schema = CollectionSchema(fields=fields, description=\"Zilliz Vector DB Fundamentals\")\n",
        "\n",
        "# Create the collection\n",
        "collection_name = \"Zilliz_Youtube_Transcripts\"\n",
        "if not utility.has_collection(collection_name):\n",
        "    collection = Collection(name=collection_name, schema=schema)\n",
        "else:\n",
        "    collection = Collection(name=collection_name)"
      ],
      "metadata": {
        "id": "rcoESd9I3zyH"
      },
      "execution_count": 19,
      "outputs": []
    },
    {
      "cell_type": "code",
      "source": [
        "if utility.has_collection(collection_name): # Ensure the collection exists\n",
        "    collection = Collection(name=collection_name)\n",
        "    print(collection.schema)\n",
        "else:\n",
        "    print(f\"Collection {collection_name} does not exist.\")"
      ],
      "metadata": {
        "colab": {
          "base_uri": "https://localhost:8080/"
        },
        "id": "0rqfMtv907hK",
        "outputId": "b904365c-721c-4fa5-eb3b-d5d8460d04d3"
      },
      "execution_count": 20,
      "outputs": [
        {
          "output_type": "stream",
          "name": "stdout",
          "text": [
            "{'auto_id': True, 'description': 'Zilliz Vector DB Fundamentals', 'fields': [{'name': 'id', 'description': '', 'type': <DataType.INT64: 5>, 'is_primary': True, 'auto_id': True}, {'name': 'embedding', 'description': '', 'type': <DataType.FLOAT_VECTOR: 101>, 'params': {'dim': 1024}}, {'name': 'video_id', 'description': '', 'type': <DataType.VARCHAR: 21>, 'params': {'max_length': 255}}]}\n"
          ]
        }
      ]
    },
    {
      "cell_type": "code",
      "source": [
        "for video_id, transcript in transcripts.items():\n",
        "    text = \" \".join([entry['text'] for entry in transcript])\n",
        "\n",
        "    # Get the embedding\n",
        "    embedding = get_embedding(text)\n",
        "    embedding_list = embedding.detach().cpu().numpy().flatten().tolist()\n",
        "\n",
        "    # Prepare the data for insertion\n",
        "    entities = {\n",
        "        \"embedding\": embedding_list,\n",
        "        \"video_id\": video_id\n",
        "    }\n",
        "\n",
        "    # Store the embedding and video_id in Milvus\n",
        "    ids = collection.insert([entities])\n",
        "    display(ids)\n",
        "\n",
        "    # After final entity is inserted, it is best to call flush to have no growing segments left in memory\n",
        "    collection.flush()"
      ],
      "metadata": {
        "colab": {
          "base_uri": "https://localhost:8080/",
          "height": 303
        },
        "id": "YD6o2-Ic0yC1",
        "outputId": "c5530e2a-69d0-4ba1-84f8-0f51c70dbb96"
      },
      "execution_count": 36,
      "outputs": [
        {
          "output_type": "display_data",
          "data": {
            "text/plain": [
              "(insert count: 1, delete count: 0, upsert count: 0, timestamp: 445231942090096641, success count: 1, err count: 0)"
            ]
          },
          "metadata": {}
        },
        {
          "output_type": "display_data",
          "data": {
            "text/plain": [
              "(insert count: 1, delete count: 0, upsert count: 0, timestamp: 445231944606679041, success count: 1, err count: 0)"
            ]
          },
          "metadata": {}
        },
        {
          "output_type": "display_data",
          "data": {
            "text/plain": [
              "(insert count: 1, delete count: 0, upsert count: 0, timestamp: 445231946533437443, success count: 1, err count: 0)"
            ]
          },
          "metadata": {}
        },
        {
          "output_type": "display_data",
          "data": {
            "text/plain": [
              "(insert count: 1, delete count: 0, upsert count: 0, timestamp: 445231949548093441, success count: 1, err count: 0)"
            ]
          },
          "metadata": {}
        },
        {
          "output_type": "display_data",
          "data": {
            "text/plain": [
              "(insert count: 1, delete count: 0, upsert count: 0, timestamp: 445231952641392641, success count: 1, err count: 0)"
            ]
          },
          "metadata": {}
        },
        {
          "output_type": "display_data",
          "data": {
            "text/plain": [
              "(insert count: 1, delete count: 0, upsert count: 0, timestamp: 445231954437079041, success count: 1, err count: 0)"
            ]
          },
          "metadata": {}
        },
        {
          "output_type": "display_data",
          "data": {
            "text/plain": [
              "(insert count: 1, delete count: 0, upsert count: 0, timestamp: 445231956075479041, success count: 1, err count: 0)"
            ]
          },
          "metadata": {}
        },
        {
          "output_type": "display_data",
          "data": {
            "text/plain": [
              "(insert count: 1, delete count: 0, upsert count: 0, timestamp: 445231957858058242, success count: 1, err count: 0)"
            ]
          },
          "metadata": {}
        }
      ]
    },
    {
      "cell_type": "code",
      "source": [
        "print(len(embedding_list))  # Should print 1024\n",
        "print(embedding_list[:5])"
      ],
      "metadata": {
        "colab": {
          "base_uri": "https://localhost:8080/"
        },
        "id": "YwXE1xDYCzVu",
        "outputId": "998cdc72-c110-46de-b1db-6c420935af85"
      },
      "execution_count": 37,
      "outputs": [
        {
          "output_type": "stream",
          "name": "stdout",
          "text": [
            "1024\n",
            "[0.041703153401613235, 0.6804148554801941, 0.7939674258232117, -0.43260687589645386, -0.34241166710853577]\n"
          ]
        }
      ]
    },
    {
      "cell_type": "code",
      "source": [
        "print(collection.is_empty)  # False if data has been inserted\n",
        "print(collection.num_entities)  # number of inserted records"
      ],
      "metadata": {
        "colab": {
          "base_uri": "https://localhost:8080/"
        },
        "id": "iaz5J_cFC31D",
        "outputId": "235cec3c-08d5-454c-da70-9be0d1d642af"
      },
      "execution_count": 38,
      "outputs": [
        {
          "output_type": "stream",
          "name": "stdout",
          "text": [
            "False\n",
            "24\n"
          ]
        }
      ]
    },
    {
      "cell_type": "markdown",
      "source": [
        "## Indexing and Search"
      ],
      "metadata": {
        "id": "Z_Fm0ItjP3Jj"
      }
    },
    {
      "cell_type": "code",
      "source": [
        "index_params = {\n",
        "    \"metric_type\": \"L2\",\n",
        "    \"index_type\": \"IVF_FLAT\",\n",
        "    \"params\": {\"nlist\": 128}\n",
        "}\n",
        "collection.create_index(field_name=\"embedding\", index_params=index_params)"
      ],
      "metadata": {
        "colab": {
          "base_uri": "https://localhost:8080/"
        },
        "id": "81k111s9AneU",
        "outputId": "0a8d695a-5a5d-4b63-c200-e181ca79800a"
      },
      "execution_count": 31,
      "outputs": [
        {
          "output_type": "execute_result",
          "data": {
            "text/plain": [
              "Status(code=0, message=)"
            ]
          },
          "metadata": {},
          "execution_count": 31
        }
      ]
    },
    {
      "cell_type": "code",
      "source": [
        "# Load the collection into memory\n",
        "collection.load()"
      ],
      "metadata": {
        "id": "sSXK8m2WDcAB"
      },
      "execution_count": 32,
      "outputs": []
    },
    {
      "cell_type": "code",
      "source": [
        "import numpy as np\n",
        "\n",
        "query_embedding = get_embedding(\"what is Cosine Similarity?\")\n",
        "\n",
        "flattened_embedding = np.array(query_embedding.tolist()).flatten().tolist()\n",
        "\n",
        "search_params = {\"metric_type\": \"L2\", \"params\": {\"nprobe\": 10}}\n",
        "results = collection.search(\n",
        "    [flattened_embedding],\n",
        "    \"embedding\",\n",
        "    param=search_params,\n",
        "    limit=1,\n",
        "    output_fields=[\"video_id\"]\n",
        ")"
      ],
      "metadata": {
        "id": "YSO-0nBtBrZ5"
      },
      "execution_count": 70,
      "outputs": []
    },
    {
      "cell_type": "code",
      "source": [
        "print(len(flattened_embedding))  # Should print 1024"
      ],
      "metadata": {
        "colab": {
          "base_uri": "https://localhost:8080/"
        },
        "id": "fidzZYgrDM8M",
        "outputId": "b12b53cf-4265-4546-d57e-dce9ec09bf55"
      },
      "execution_count": 53,
      "outputs": [
        {
          "output_type": "stream",
          "name": "stdout",
          "text": [
            "1024\n"
          ]
        }
      ]
    },
    {
      "cell_type": "code",
      "source": [
        "results"
      ],
      "metadata": {
        "colab": {
          "base_uri": "https://localhost:8080/"
        },
        "id": "Copnph2kE8Hm",
        "outputId": "73a0969b-67c5-4003-e900-8004072f7139"
      },
      "execution_count": 71,
      "outputs": [
        {
          "output_type": "execute_result",
          "data": {
            "text/plain": [
              "['[\"id: 445231527974932243, distance: 98.24575805664062, entity: {\\'video_id\\': \\'o-eE-HZzUQY\\'}\"]']"
            ]
          },
          "metadata": {},
          "execution_count": 71
        }
      ]
    },
    {
      "cell_type": "markdown",
      "source": [
        "## Retrieving and Displaying Results\n",
        "\n",
        "Map the results back to the original transcripts and display them."
      ],
      "metadata": {
        "id": "clLqmaisQAvg"
      }
    },
    {
      "cell_type": "code",
      "source": [
        "# Iterate through the results\n",
        "for result in results[0]:\n",
        "    video_id = result.entity.get(\"video_id\")\n",
        "    # Fetch the playlist and video from your transcripts data\n",
        "    for playlist_id, transcripts in all_transcripts.items():\n",
        "        transcript = transcripts.get(video_id)\n",
        "        if transcript:\n",
        "            # You've found the transcript, now display it or do whatever you need\n",
        "            text = \" \".join([entry['text'] for entry in transcript])\n",
        "            display(f'Transcript: {text}')\n",
        "            break"
      ],
      "metadata": {
        "colab": {
          "base_uri": "https://localhost:8080/",
          "height": 196
        },
        "id": "2lsO4aQnEYko",
        "outputId": "4284de3e-be26-44c2-c7c2-13076b31aad5"
      },
      "execution_count": 72,
      "outputs": [
        {
          "output_type": "display_data",
          "data": {
            "text/plain": [
              "\"Transcript: hey guys welcome to another installment in our Vector database fundamental Series today we're going to be talking about cosine similarity cosine similarity is the angle between two vectors which I've marked here with this purple line the way that cosine similarity is calculated looks pretty complicated but what it really is um in terms of a concept is it's the dot product or the inner product which we looked at earlier and then it is divided by the magnitude of the vectors and so what this is is essentially it's normalized in our product as if every Vector had a magnitude of one and you'll look and you can see that queen and king in this example don't hide magnitudes of one but this is that's when it is best used because it is more efficient at that point so the cosine similarity here is done by doing a DOT product and then dividing by the magnitudes so in our case it's what we just did earlier the dot product 0.3 times 0.5 plus 0.9 times 0.7 and then we also have to take the magnitudes of the vectors which for Queen is 0.3 squared plus 0.9 squared and for King is 0.5 squared plus 0.7 squared and when we take this and we add it up we get 0.78 divided by square root of 0.9 times square root of 0.74 or 0.78 divided by square root of 0.666 which is about .03 thanks for watching and if this was helpful for you um please remember to like And subscribe\""
            ],
            "application/vnd.google.colaboratory.intrinsic+json": {
              "type": "string"
            }
          },
          "metadata": {}
        }
      ]
    },
    {
      "cell_type": "markdown",
      "source": [
        "## Cleanup\n",
        "\n",
        "Shutting down and cleaning up the Milvus server."
      ],
      "metadata": {
        "id": "BlRRcQdSQPiF"
      }
    },
    {
      "cell_type": "code",
      "source": [
        "# Shut down and cleanup the milvus server.\n",
        "default_server.stop()\n",
        "default_server.cleanup()"
      ],
      "metadata": {
        "id": "O7x5_ZDd00Nb"
      },
      "execution_count": 73,
      "outputs": []
    },
    {
      "cell_type": "markdown",
      "source": [
        "## Some TODO's:\n",
        "\n",
        "1. Error handling\n",
        "2. Logging\n",
        "3. Testing\n",
        "4. Manage config / security\n",
        "5. Code modularity\n",
        "6. Performance optimization\n",
        "7. Documentation\n",
        "8. Handling YouTube API rate limiting"
      ],
      "metadata": {
        "id": "_GjGS6OWQgm8"
      }
    }
  ]
}